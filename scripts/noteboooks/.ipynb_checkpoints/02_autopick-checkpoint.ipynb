{
 "cells": [
  {
   "cell_type": "markdown",
   "metadata": {},
   "source": [
    "# Localize and undrift \n",
    "This notebook will run picasso_addon.autopick.main() on a input (undrifted) *_render.hdf5 file:\n",
    "*  Render pointillistic localization list into image (``oversampling``)\n",
    "*  Apply modified picasso.localize spot detection algorithm to detect clusters (picks)\n",
    "*  Assign unique ``group`` ID to each cluster (pick)\n",
    "\n",
    "We therefore:\n",
    "\n",
    "1. Define the full paths to the *_picked.hdf5 files\n",
    "2. Set the execution parameters\n",
    "3. Run picasso_addon.autopick.main() for all datasets\n",
    "\n",
    "As a result files with extension *_picked.hdf5  and  *_autopick.yaml are created that can be used in the picasso.render GUI."
   ]
  },
  {
   "cell_type": "code",
   "execution_count": 2,
   "metadata": {},
   "outputs": [
    {
     "data": {
      "text/plain": [
       "<module 'picasso_addon.autopick' from 'C:/Users/flori/Documents/mpi/repos/picasso_addon\\\\picasso_addon\\\\autopick.py'>"
      ]
     },
     "execution_count": 2,
     "metadata": {},
     "output_type": "execute_result"
    }
   ],
   "source": [
    "import os\n",
    "import traceback\n",
    "import importlib\n",
    "import matplotlib.pyplot as plt\n",
    "\n",
    "import picasso.io as io\n",
    "import picasso.render as render\n",
    "import picasso_addon.autopick as autopick\n",
    "\n",
    "importlib.reload(autopick)"
   ]
  },
  {
   "cell_type": "markdown",
   "metadata": {},
   "source": [
    "### 1. Define the full paths to the *_render.hdf5 files"
   ]
  },
  {
   "cell_type": "code",
   "execution_count": 3,
   "metadata": {},
   "outputs": [],
   "source": [
    "dir_names=[]\n",
    "dir_names.extend([r'C:\\Data\\p06.SP-tracking\\20-01-17_fix_slb_L_T21\\id140_L_exp200_p114uW_T21_1'])\n",
    "\n",
    "file_names=[]\n",
    "file_names.extend(['id140_L_exp200_p114uW_T21_1_MMStack_Pos2.ome_locs_render.hdf5'])"
   ]
  },
  {
   "cell_type": "markdown",
   "metadata": {},
   "source": [
    "### 2. Set the execution parameters"
   ]
  },
  {
   "cell_type": "code",
   "execution_count": 4,
   "metadata": {},
   "outputs": [],
   "source": [
    "### Valid for all evaluations\n",
    "params_all={'min_n_locs':5}\n",
    "## Exceptions\n",
    "params_special={}"
   ]
  },
  {
   "cell_type": "markdown",
   "metadata": {},
   "source": [
    "For all possible parameters please run  `help(autopick.main)` or readthedocs. If not stated otherwise standard values are used (indicated in brackets)."
   ]
  },
  {
   "cell_type": "code",
   "execution_count": 6,
   "metadata": {},
   "outputs": [
    {
     "name": "stdout",
     "output_type": "stream",
     "text": [
      "Help on function main in module picasso_addon.autopick:\n",
      "\n",
      "main(locs, info, path, **params)\n",
      "    Cluster detection (pick) in localizations by thresholding in number of localizations per cluster.\n",
      "    Cluster centers are determined by creating images of localization list with set oversampling using picasso.render.\n",
      "    \n",
      "    Args:\n",
      "        locs(numpy.recarray):           (Undrifted) localization list as created by `picasso.render`_.\n",
      "        info(list(dict)):               Info to localization list when loaded with picasso.io.load_locs().\n",
      "    \n",
      "    Keyword Arguments:\n",
      "        oversampling(int=5):            Oversampling for rendering of localization list, i.e. sub-pixels per pixel of original image.\n",
      "        pick_box(int=2*oversampling+1): Box length for spot detection in rendered image similar to `picasso.localize`_.\n",
      "        min_n_locs(float=0.2*NoFrames): Detection threshold for number of localizations in cluster.\n",
      "                                        Standard value is set for `spt`_. \n",
      "                                        Set to lower value for usual DNA-PAINT signal (see ``lbfcs``).\n",
      "        fit_center(bool=False):         False = Center of mass. True = 2D Gaussian fitting of center.\n",
      "        pick_diameter(float=2):         Pick diameter in original pixels.\n",
      "        lbfcs(bool=False):              If set to True will overrun min_n_locs and sets it to 0.05*NoFrames.\n",
      "        \n",
      "    Returns:\n",
      "        list:\n",
      "            - [0] (dict):             kwargs passed to function.\n",
      "            - [1] (pandas.DataFrame): Picked localizations, saved with extension _picked.hdf5.\n",
      "            - [2] (pandas.DataFrame): Center positions and number of localizations per pick, saved with extension _autopick.yaml.\n",
      "            - [3] (str):              Full save path.\n",
      "\n"
     ]
    }
   ],
   "source": [
    "help(autopick.main)"
   ]
  },
  {
   "cell_type": "markdown",
   "metadata": {},
   "source": [
    "### 3. Run picasso_addon.autopick.main() for all datasets"
   ]
  },
  {
   "cell_type": "code",
   "execution_count": 7,
   "metadata": {},
   "outputs": [
    {
     "name": "stdout",
     "output_type": "stream",
     "text": [
      "Minimum number of localizations in pick set to 5\n",
      "Rendering locs for pick detection ...\n",
      "Identifiying valid picks ...\n",
      "Build up and query KDtree ...\n",
      "Assigning group ID ...\n",
      "Saving _picked ...\n",
      "\n",
      "Failed attempts: 0\n"
     ]
    }
   ],
   "source": [
    "failed_path=[]\n",
    "for i in range(0,len(file_names)):\n",
    "    ### Create path\n",
    "    path=os.path.join(dir_names[i],file_names[i])\n",
    "    ### Set paramters for each run\n",
    "    params=params_all.copy()\n",
    "    for key, value in params_special.items():\n",
    "        params[key]=value[i]\n",
    "    ### Run main function\n",
    "    try:\n",
    "        locs,info=io.load_locs(path)\n",
    "        out=autopick.main(locs,info,path,**params)\n",
    "    except Exception:\n",
    "        traceback.print_exc()\n",
    "        failed_path.extend([path])\n",
    "\n",
    "print()    \n",
    "print('Failed attempts: %i'%(len(failed_path)))"
   ]
  }
 ],
 "metadata": {
  "kernelspec": {
   "display_name": "Python 3",
   "language": "python",
   "name": "python3"
  },
  "language_info": {
   "codemirror_mode": {
    "name": "ipython",
    "version": 3
   },
   "file_extension": ".py",
   "mimetype": "text/x-python",
   "name": "python",
   "nbconvert_exporter": "python",
   "pygments_lexer": "ipython3",
   "version": "3.7.7"
  }
 },
 "nbformat": 4,
 "nbformat_minor": 4
}
