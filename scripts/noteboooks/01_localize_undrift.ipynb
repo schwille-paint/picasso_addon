{
 "cells": [
  {
   "cell_type": "markdown",
   "metadata": {},
   "source": [
    "# Localize and undrift \n",
    "This notebook will run picasso_addon.localize.main() on a input *.ome.tif file or input *_locs.hdf5 file:\n",
    "*  It automatically sets a minimal net-gradient for spot detection\n",
    "*  It applies a least square 2D Gaussian fit to the spots using picasso.localize\n",
    "*  It undrifts the resulting localizations using the picasso.render RCC undrift option\n",
    "\n",
    "We therefore:\n",
    "\n",
    "1. Define the full paths to the *ome.tif files\n",
    "2. Set the execution parameters\n",
    "3. Run picasso_addon.localize.main() for all datasets\n",
    "\n",
    "As a result files with extension *_locs.hdf5 (i.e. localized) and  *_render.hdf5 (i.e undrifted) will be created in the same folder as the *.ome.tif file."
   ]
  },
  {
   "cell_type": "code",
   "execution_count": 2,
   "metadata": {},
   "outputs": [
    {
     "data": {
      "text/plain": [
       "<module 'picasso_addon.localize' from 'C:/Users/flori/Documents/mpi/repos/picasso_addon\\\\picasso_addon\\\\localize.py'>"
      ]
     },
     "execution_count": 2,
     "metadata": {},
     "output_type": "execute_result"
    }
   ],
   "source": [
    "import os\n",
    "import traceback\n",
    "import importlib\n",
    "import matplotlib.pyplot as plt\n",
    "\n",
    "import picasso.io as io\n",
    "import picasso.localize\n",
    "import picasso_addon.localize as localize\n",
    "\n",
    "importlib.reload(localize)"
   ]
  },
  {
   "cell_type": "markdown",
   "metadata": {},
   "source": [
    "### 1. Define the full paths to the *ome.tif files"
   ]
  },
  {
   "cell_type": "code",
   "execution_count": null,
   "metadata": {},
   "outputs": [],
   "source": [
    "dir_names=[]\n",
    "dir_names.extend([r'C:\\Data\\p06.SP-tracking\\20-03-13_c-series_SDS_L21\\03_id162_Pm2-40nM_L21_1'])\n",
    "\n",
    "file_names=[]\n",
    "file_names.extend(['03_id162_Pm2-40nM_L21_1_MMStack_Pos0.ome_locs.hdf5'])"
   ]
  },
  {
   "cell_type": "markdown",
   "metadata": {},
   "source": [
    "### 2. Set the execution parameters"
   ]
  },
  {
   "cell_type": "code",
   "execution_count": null,
   "metadata": {},
   "outputs": [],
   "source": [
    "### Valid for all evaluations\n",
    "params_all={'localize':False,\n",
    "            }\n",
    "\n",
    "### Exceptions\n",
    "params_special={}"
   ]
  },
  {
   "cell_type": "markdown",
   "metadata": {},
   "source": [
    "For all possible parameters please run  `help(localize.main)` or readthedocs. If not stated otherwise standard values are used (indicated in brackets). Note that if a *_locs.hdf5 file is given as input we have to set `'localize':False` and only undrifting is performed!"
   ]
  },
  {
   "cell_type": "code",
   "execution_count": 4,
   "metadata": {},
   "outputs": [
    {
     "name": "stdout",
     "output_type": "stream",
     "text": [
      "Help on function main in module picasso_addon.localize:\n",
      "\n",
      "main(file, info, path, **params)\n",
      "    Localize movie (least squares, GPU fitting if available) and undrift resulting localizations using rcc.\n",
      "     \n",
      "    Args:\n",
      "        file(picasso.io):          Either raw movie loaded with picasso.io.load_movie() or_locs.hdf5 loaded with picasso.io.load_locs()\n",
      "        info(list(dicts)):         Info to raw movie/_locs.hdf5 loaded with picasso.io.load_movie() or picasso.io.load_locs()\n",
      "    \n",
      "    Keyword Arguments:\n",
      "        localize(bool=True)        Localize raw movie (see picasso.localize)\n",
      "        baseline(int=70):          Camera spec. baseline (see picasso.localize).\n",
      "        gain(float=1):             Camera spec. EM gain (see picasso.localize)\n",
      "        sensitivity(float=0.56):   Camera spec. sensitivity (see picasso.localize)\n",
      "        qe(float=0.82):            Camera spec. sensitivity (see picasso.localize)\n",
      "        box(int=5):                Box length (uneven!) of fitted spots (see picasso.localize)\n",
      "        mng(int or str='auto'):    Minimal net-gradient spot detection threshold(see picasso.localize. If set to 'auto' minimal net_gradient is determined by autodetect_mng().\n",
      "        undrift(bool=True)         Apply RCC drift correction (see picasso.render)\n",
      "        segments(int=1000):        Segment length (frames) for undrifting by RCC (see picasso.render)\n",
      "    \n",
      "    Returns: \n",
      "        list:\n",
      "        - [0][0] Dict of **kwargs passed to localize\n",
      "        - | [0][1] Localizations (numpy.array) as created by picasso.localize\n",
      "          | Will be saved with extension '_locs.hdf5' for usage in picasso.render\n",
      "        - [1][0] Dict of **kwargs passed to undriftrcc_locs        \n",
      "        - | [1][1] Undrifted(RCC) localizations as created by picasso.render. \n",
      "          | If undrifing was not succesfull just corresponds to original loclizations.\n",
      "          | Will be saved with extension '_locs_render.hdf5' for usage in picasso.render                            \n",
      "          | If undrifting was not succesfull only _locs will be saved.\n",
      "\n"
     ]
    }
   ],
   "source": [
    "help(localize.main)"
   ]
  },
  {
   "cell_type": "markdown",
   "metadata": {},
   "source": [
    "### 3. Run picasso_addon.localize.main() for all datasets"
   ]
  },
  {
   "cell_type": "code",
   "execution_count": null,
   "metadata": {},
   "outputs": [],
   "source": [
    "failed_path=[]\n",
    "for i in range(0,len(file_names)):\n",
    "    ### Create path\n",
    "    path=os.path.join(dir_names[i],file_names[i])\n",
    "    ### Set paramters for each run\n",
    "    params=params_all.copy()\n",
    "    for key, value in params_special.items():\n",
    "        params[key]=value[i]\n",
    "    \n",
    "    ### Run main function\n",
    "    try:\n",
    "        try:\n",
    "            file,info=io.load_movie(path) # Load movie\n",
    "        except:\n",
    "            file,info=io.load_locs(path) # Load _locs            \n",
    "        out=localize.main(file,info,path,**params)    \n",
    "    \n",
    "    except Exception:\n",
    "        traceback.print_exc()\n",
    "        failed_path.extend([path])\n",
    "\n",
    "print()    \n",
    "print('Failed attempts: %i'%(len(failed_path)))\n"
   ]
  }
 ],
 "metadata": {
  "kernelspec": {
   "display_name": "Python 3",
   "language": "python",
   "name": "python3"
  },
  "language_info": {
   "codemirror_mode": {
    "name": "ipython",
    "version": 3
   },
   "file_extension": ".py",
   "mimetype": "text/x-python",
   "name": "python",
   "nbconvert_exporter": "python",
   "pygments_lexer": "ipython3",
   "version": "3.7.7"
  }
 },
 "nbformat": 4,
 "nbformat_minor": 4
}
