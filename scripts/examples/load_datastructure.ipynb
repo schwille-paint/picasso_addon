{
 "cells": [
  {
   "cell_type": "markdown",
   "metadata": {},
   "source": [
    "## How to load and *.hdf5 file and what's in there?"
   ]
  },
  {
   "cell_type": "code",
   "execution_count": 8,
   "metadata": {},
   "outputs": [],
   "source": [
    "import os\n",
    "import traceback\n",
    "import importlib\n",
    "import matplotlib.pyplot as plt\n",
    "\n",
    "import picasso.io as io\n",
    "import picasso_addon.io as addon_io"
   ]
  },
  {
   "cell_type": "markdown",
   "metadata": {},
   "source": [
    "### 1. Define path to files "
   ]
  },
  {
   "cell_type": "code",
   "execution_count": 10,
   "metadata": {},
   "outputs": [],
   "source": [
    "dir_names=[]\n",
    "dir_names.extend([r'C:\\Data\\p06.SP-tracking\\20-01-17_fix_slb_L_T21\\id140_L_exp200_p114uW_T21_1'])\n",
    "\n",
    "file_names=[]\n",
    "file_names.extend(['id140_L_exp200_p114uW_T21_1_MMStack_Pos2.ome_locs_render.hdf5'])\n",
    "\n",
    "### Combine to full path\n",
    "path=[os.path.join(dir_names[i],file_names[i]) for i in range(len(file_names))]"
   ]
  },
  {
   "cell_type": "markdown",
   "metadata": {},
   "source": [
    "### 2. Load one file as numpy.array or pandas.DataFrame"
   ]
  },
  {
   "cell_type": "code",
   "execution_count": 11,
   "metadata": {},
   "outputs": [],
   "source": [
    "i=0\n",
    "locs,info=io.load_locs(path[i]) # numpy.array\n",
    "locs_df,info_df=addon_io.load_locs(path[i]) # pandas.DataFrame"
   ]
  },
  {
   "cell_type": "markdown",
   "metadata": {},
   "source": [
    "### 3. View what's in there?"
   ]
  },
  {
   "cell_type": "code",
   "execution_count": 15,
   "metadata": {},
   "outputs": [
    {
     "data": {
      "text/html": [
       "<div>\n",
       "<style scoped>\n",
       "    .dataframe tbody tr th:only-of-type {\n",
       "        vertical-align: middle;\n",
       "    }\n",
       "\n",
       "    .dataframe tbody tr th {\n",
       "        vertical-align: top;\n",
       "    }\n",
       "\n",
       "    .dataframe thead th {\n",
       "        text-align: right;\n",
       "    }\n",
       "</style>\n",
       "<table border=\"1\" class=\"dataframe\">\n",
       "  <thead>\n",
       "    <tr style=\"text-align: right;\">\n",
       "      <th></th>\n",
       "      <th>frame</th>\n",
       "      <th>x</th>\n",
       "      <th>y</th>\n",
       "      <th>photons</th>\n",
       "      <th>sx</th>\n",
       "      <th>sy</th>\n",
       "      <th>bg</th>\n",
       "      <th>lpx</th>\n",
       "      <th>lpy</th>\n",
       "      <th>ellipticity</th>\n",
       "      <th>net_gradient</th>\n",
       "    </tr>\n",
       "  </thead>\n",
       "  <tbody>\n",
       "    <tr>\n",
       "      <th>0</th>\n",
       "      <td>0</td>\n",
       "      <td>1.933197</td>\n",
       "      <td>254.844849</td>\n",
       "      <td>578.087097</td>\n",
       "      <td>0.927041</td>\n",
       "      <td>0.715533</td>\n",
       "      <td>45.383194</td>\n",
       "      <td>0.077023</td>\n",
       "      <td>0.055140</td>\n",
       "      <td>0.228154</td>\n",
       "      <td>2091.172852</td>\n",
       "    </tr>\n",
       "    <tr>\n",
       "      <th>1</th>\n",
       "      <td>0</td>\n",
       "      <td>1.945770</td>\n",
       "      <td>488.223236</td>\n",
       "      <td>515.516418</td>\n",
       "      <td>0.933294</td>\n",
       "      <td>0.797122</td>\n",
       "      <td>38.231190</td>\n",
       "      <td>0.081144</td>\n",
       "      <td>0.065927</td>\n",
       "      <td>0.145904</td>\n",
       "      <td>1696.051758</td>\n",
       "    </tr>\n",
       "    <tr>\n",
       "      <th>2</th>\n",
       "      <td>0</td>\n",
       "      <td>2.931132</td>\n",
       "      <td>119.448929</td>\n",
       "      <td>1295.551880</td>\n",
       "      <td>0.849734</td>\n",
       "      <td>0.885593</td>\n",
       "      <td>64.164520</td>\n",
       "      <td>0.041574</td>\n",
       "      <td>0.043747</td>\n",
       "      <td>0.040491</td>\n",
       "      <td>3864.362305</td>\n",
       "    </tr>\n",
       "    <tr>\n",
       "      <th>3</th>\n",
       "      <td>0</td>\n",
       "      <td>3.213937</td>\n",
       "      <td>455.257599</td>\n",
       "      <td>242.554398</td>\n",
       "      <td>0.787955</td>\n",
       "      <td>0.871308</td>\n",
       "      <td>38.435993</td>\n",
       "      <td>0.115343</td>\n",
       "      <td>0.133529</td>\n",
       "      <td>0.095665</td>\n",
       "      <td>718.725098</td>\n",
       "    </tr>\n",
       "    <tr>\n",
       "      <th>4</th>\n",
       "      <td>0</td>\n",
       "      <td>3.285499</td>\n",
       "      <td>104.399200</td>\n",
       "      <td>1463.682373</td>\n",
       "      <td>0.893662</td>\n",
       "      <td>0.830308</td>\n",
       "      <td>56.996231</td>\n",
       "      <td>0.039892</td>\n",
       "      <td>0.036576</td>\n",
       "      <td>0.070893</td>\n",
       "      <td>4642.473633</td>\n",
       "    </tr>\n",
       "  </tbody>\n",
       "</table>\n",
       "</div>"
      ],
      "text/plain": [
       "   frame         x           y      photons        sx        sy         bg  \\\n",
       "0      0  1.933197  254.844849   578.087097  0.927041  0.715533  45.383194   \n",
       "1      0  1.945770  488.223236   515.516418  0.933294  0.797122  38.231190   \n",
       "2      0  2.931132  119.448929  1295.551880  0.849734  0.885593  64.164520   \n",
       "3      0  3.213937  455.257599   242.554398  0.787955  0.871308  38.435993   \n",
       "4      0  3.285499  104.399200  1463.682373  0.893662  0.830308  56.996231   \n",
       "\n",
       "        lpx       lpy  ellipticity  net_gradient  \n",
       "0  0.077023  0.055140     0.228154   2091.172852  \n",
       "1  0.081144  0.065927     0.145904   1696.051758  \n",
       "2  0.041574  0.043747     0.040491   3864.362305  \n",
       "3  0.115343  0.133529     0.095665    718.725098  \n",
       "4  0.039892  0.036576     0.070893   4642.473633  "
      ]
     },
     "execution_count": 15,
     "metadata": {},
     "output_type": "execute_result"
    }
   ],
   "source": [
    "locs_df.head()"
   ]
  },
  {
   "cell_type": "markdown",
   "metadata": {},
   "source": [
    "For every localization we have a set of observables: \n",
    "* ``frame`` in which frame of the movie did we localize\n",
    "* ``x`` localization x-position\n",
    "* ``y`` localization y-position\n",
    "* ``photons`` sum of photons within spot, background already substracted. Only true if right camera parameters where given to picasso.localize\n",
    "* ``sx`` standard deviation in x for 2D Gaussian fit of spot\n",
    "* ``sy`` standard deviation in y for 2D Gaussian fit of spot\n",
    "* ``bg`` Background photons in spot\n",
    "* ``lpx`` Localization precision as calculated according to <https://www.nature.com/articles/nmeth.1447> taking ``sx``,``photons`` and ``bg`` into account\n",
    "* ``lpy`` Same as ``lpy`` but in y\n",
    "* ``ellipticity`` defined as (max(``sx``,``sy``)-min(``sx``,``sy``))/max(``sx``,``sy``)\n",
    "* ``net_gradient`` net_gradient of box as in picasso.localize"
   ]
  }
 ],
 "metadata": {
  "kernelspec": {
   "display_name": "Python 3",
   "language": "python",
   "name": "python3"
  },
  "language_info": {
   "codemirror_mode": {
    "name": "ipython",
    "version": 3
   },
   "file_extension": ".py",
   "mimetype": "text/x-python",
   "name": "python",
   "nbconvert_exporter": "python",
   "pygments_lexer": "ipython3",
   "version": "3.7.7"
  }
 },
 "nbformat": 4,
 "nbformat_minor": 4
}
