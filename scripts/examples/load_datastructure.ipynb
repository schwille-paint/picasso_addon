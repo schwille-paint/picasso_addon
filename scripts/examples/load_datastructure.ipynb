{
 "cells": [
  {
   "cell_type": "markdown",
   "metadata": {},
   "source": [
    "## How to load and *.hdf5 file and what's in there?"
   ]
  },
  {
   "cell_type": "code",
   "execution_count": 8,
   "metadata": {},
   "outputs": [],
   "source": [
    "import os\n",
    "import traceback\n",
    "import importlib\n",
    "import matplotlib.pyplot as plt\n",
    "\n",
    "import picasso.io as io\n",
    "import picasso_addon.io as addon_io"
   ]
  },
  {
   "cell_type": "markdown",
   "metadata": {},
   "source": [
    "### 1. Define path to files "
   ]
  },
  {
   "cell_type": "code",
   "execution_count": 16,
   "metadata": {},
   "outputs": [],
   "source": [
    "dir_names=[]\n",
    "dir_names.extend([r'C:\\Data\\p06.SP-tracking\\20-01-17_fix_slb_L_T21\\id140_L_exp200_p114uW_T21_1'])\n",
    "\n",
    "file_names=[]\n",
    "file_names.extend(['id140_L_exp200_p114uW_T21_1_MMStack_Pos2.ome_locs_render_picked.hdf5'])\n",
    "\n",
    "### Combine to full path\n",
    "path=[os.path.join(dir_names[i],file_names[i]) for i in range(len(file_names))]"
   ]
  },
  {
   "cell_type": "markdown",
   "metadata": {},
   "source": [
    "### 2. Load one file as numpy.array or pandas.DataFrame"
   ]
  },
  {
   "cell_type": "code",
   "execution_count": 17,
   "metadata": {},
   "outputs": [],
   "source": [
    "i=0\n",
    "locs,info=io.load_locs(path[i]) # numpy.array\n",
    "locs_df,info_df=addon_io.load_locs(path[i]) # pandas.DataFrame"
   ]
  },
  {
   "cell_type": "markdown",
   "metadata": {},
   "source": [
    "### 3. View what's in there?"
   ]
  },
  {
   "cell_type": "code",
   "execution_count": 18,
   "metadata": {},
   "outputs": [
    {
     "data": {
      "text/html": [
       "<div>\n",
       "<style scoped>\n",
       "    .dataframe tbody tr th:only-of-type {\n",
       "        vertical-align: middle;\n",
       "    }\n",
       "\n",
       "    .dataframe tbody tr th {\n",
       "        vertical-align: top;\n",
       "    }\n",
       "\n",
       "    .dataframe thead th {\n",
       "        text-align: right;\n",
       "    }\n",
       "</style>\n",
       "<table border=\"1\" class=\"dataframe\">\n",
       "  <thead>\n",
       "    <tr style=\"text-align: right;\">\n",
       "      <th></th>\n",
       "      <th>frame</th>\n",
       "      <th>x</th>\n",
       "      <th>y</th>\n",
       "      <th>photons</th>\n",
       "      <th>sx</th>\n",
       "      <th>sy</th>\n",
       "      <th>bg</th>\n",
       "      <th>lpx</th>\n",
       "      <th>lpy</th>\n",
       "      <th>ellipticity</th>\n",
       "      <th>net_gradient</th>\n",
       "      <th>group</th>\n",
       "    </tr>\n",
       "  </thead>\n",
       "  <tbody>\n",
       "    <tr>\n",
       "      <th>0</th>\n",
       "      <td>2</td>\n",
       "      <td>327.450378</td>\n",
       "      <td>3.045899</td>\n",
       "      <td>404.560944</td>\n",
       "      <td>2.229425</td>\n",
       "      <td>1.432410</td>\n",
       "      <td>25.287148</td>\n",
       "      <td>0.348395</td>\n",
       "      <td>0.164574</td>\n",
       "      <td>0.357498</td>\n",
       "      <td>231.683701</td>\n",
       "      <td>0</td>\n",
       "    </tr>\n",
       "    <tr>\n",
       "      <th>1</th>\n",
       "      <td>5</td>\n",
       "      <td>328.732697</td>\n",
       "      <td>3.136938</td>\n",
       "      <td>87.353798</td>\n",
       "      <td>1.204711</td>\n",
       "      <td>0.753106</td>\n",
       "      <td>35.005455</td>\n",
       "      <td>0.550250</td>\n",
       "      <td>0.249050</td>\n",
       "      <td>0.374866</td>\n",
       "      <td>286.016205</td>\n",
       "      <td>0</td>\n",
       "    </tr>\n",
       "    <tr>\n",
       "      <th>2</th>\n",
       "      <td>6</td>\n",
       "      <td>328.030670</td>\n",
       "      <td>3.269124</td>\n",
       "      <td>197.980972</td>\n",
       "      <td>1.135690</td>\n",
       "      <td>1.338080</td>\n",
       "      <td>30.082497</td>\n",
       "      <td>0.220678</td>\n",
       "      <td>0.290776</td>\n",
       "      <td>0.151254</td>\n",
       "      <td>369.737549</td>\n",
       "      <td>0</td>\n",
       "    </tr>\n",
       "    <tr>\n",
       "      <th>3</th>\n",
       "      <td>10</td>\n",
       "      <td>327.920135</td>\n",
       "      <td>2.717058</td>\n",
       "      <td>70.692665</td>\n",
       "      <td>0.795793</td>\n",
       "      <td>0.576723</td>\n",
       "      <td>34.378017</td>\n",
       "      <td>0.326816</td>\n",
       "      <td>0.200927</td>\n",
       "      <td>0.275285</td>\n",
       "      <td>289.944183</td>\n",
       "      <td>0</td>\n",
       "    </tr>\n",
       "    <tr>\n",
       "      <th>4</th>\n",
       "      <td>15</td>\n",
       "      <td>328.212463</td>\n",
       "      <td>3.091754</td>\n",
       "      <td>33.707005</td>\n",
       "      <td>0.366005</td>\n",
       "      <td>0.525297</td>\n",
       "      <td>33.659134</td>\n",
       "      <td>0.215908</td>\n",
       "      <td>0.339195</td>\n",
       "      <td>0.303240</td>\n",
       "      <td>262.511444</td>\n",
       "      <td>0</td>\n",
       "    </tr>\n",
       "  </tbody>\n",
       "</table>\n",
       "</div>"
      ],
      "text/plain": [
       "   frame           x         y     photons        sx        sy         bg  \\\n",
       "0      2  327.450378  3.045899  404.560944  2.229425  1.432410  25.287148   \n",
       "1      5  328.732697  3.136938   87.353798  1.204711  0.753106  35.005455   \n",
       "2      6  328.030670  3.269124  197.980972  1.135690  1.338080  30.082497   \n",
       "3     10  327.920135  2.717058   70.692665  0.795793  0.576723  34.378017   \n",
       "4     15  328.212463  3.091754   33.707005  0.366005  0.525297  33.659134   \n",
       "\n",
       "        lpx       lpy  ellipticity  net_gradient  group  \n",
       "0  0.348395  0.164574     0.357498    231.683701      0  \n",
       "1  0.550250  0.249050     0.374866    286.016205      0  \n",
       "2  0.220678  0.290776     0.151254    369.737549      0  \n",
       "3  0.326816  0.200927     0.275285    289.944183      0  \n",
       "4  0.215908  0.339195     0.303240    262.511444      0  "
      ]
     },
     "execution_count": 18,
     "metadata": {},
     "output_type": "execute_result"
    }
   ],
   "source": [
    "locs_df.head()"
   ]
  },
  {
   "cell_type": "markdown",
   "metadata": {},
   "source": [
    "For every localization we have a set of observables: \n",
    "* ``frame`` in which frame of the movie did we localize\n",
    "* ``x`` localization x-position\n",
    "* ``y`` localization y-position\n",
    "* ``photons`` sum of photons within spot, background already substracted. Only true if right camera parameters where given to picasso.localize\n",
    "* ``sx`` standard deviation in x for 2D Gaussian fit of spot\n",
    "* ``sy`` standard deviation in y for 2D Gaussian fit of spot\n",
    "* ``bg`` Background photons in spot\n",
    "* ``lpx`` Localization precision as calculated according to <https://www.nature.com/articles/nmeth.1447> taking ``sx``,``photons`` and ``bg`` into account\n",
    "* ``lpy`` Same as ``lpy`` but in y\n",
    "* ``ellipticity`` defined as (max(``sx``,``sy``)-min(``sx``,``sy``))/max(``sx``,``sy``)\n",
    "* ``net_gradient`` net_gradient of box as in picasso.localize\n",
    "* ``group`` localization cluster ID, referred to as pick. Only in *_picked.hdf5 files"
   ]
  }
 ],
 "metadata": {
  "kernelspec": {
   "display_name": "Python 3",
   "language": "python",
   "name": "python3"
  },
  "language_info": {
   "codemirror_mode": {
    "name": "ipython",
    "version": 3
   },
   "file_extension": ".py",
   "mimetype": "text/x-python",
   "name": "python",
   "nbconvert_exporter": "python",
   "pygments_lexer": "ipython3",
   "version": "3.7.7"
  }
 },
 "nbformat": 4,
 "nbformat_minor": 4
}
